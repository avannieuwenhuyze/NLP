{
  "nbformat": 4,
  "nbformat_minor": 0,
  "metadata": {
    "colab": {
      "name": "211101-Expressions_Regulieres_Correcteur_Orthographique.ipynb",
      "provenance": [],
      "collapsed_sections": [],
      "toc_visible": true
    },
    "kernelspec": {
      "name": "python3",
      "display_name": "Python 3"
    },
    "language_info": {
      "name": "python"
    }
  },
  "cells": [
    {
      "cell_type": "markdown",
      "metadata": {
        "id": "Y8gGKGi8Lx9m"
      },
      "source": [
        "\n",
        "\n",
        "<H1><center>CORRECTIONS ORTHOGRAPHIQUES À L'AIDE DES EXPRESSIONS RÉGULIÈRES</center></h1>\n",
        "<p><center>Aurélien Vannieuwenhuyze - 01 Novembre 2021<center></p>\n",
        "<p><center>Traitement automatique du langage naturel (français)<center></p>\n",
        "<p><center>www.qstom-it.com<center></p>\n",
        "<image src=\"https://www.gnu.org/graphics/gplv3-with-text-136x68.png\" width=70/>\n"
      ]
    },
    {
      "cell_type": "markdown",
      "metadata": {
        "id": "-wFgdcm8PNVW"
      },
      "source": [
        "## OBJET\n",
        "\n",
        "Peu utilisées, les expressions régulières peuvent être un atout dans la préparation et l'analyse de textes.  \n",
        "À travers un projet articulé sous forme d'exercices progressifs, nous allons mettre en oeuvre les expressions régulières dans le but de créer un correcteur grammatical.  \n",
        "Ce correcteur grammatical sera, <b>dans une certaine mesure</b>, capable de vérifier les accords pluriels des noms.\n"
      ]
    },
    {
      "cell_type": "markdown",
      "metadata": {
        "id": "qXItQ5-Z_GZG"
      },
      "source": [
        "##UTILISATION DES EXPRESSIONS REGULIERES"
      ]
    },
    {
      "cell_type": "markdown",
      "metadata": {
        "id": "of4xmQD9GPah"
      },
      "source": [
        "\n",
        "Voici quelques exemples d'utilisations des expressions régulières dans le traitement du texte:"
      ]
    },
    {
      "cell_type": "code",
      "metadata": {
        "id": "hVOMxhemimXE",
        "colab": {
          "base_uri": "https://localhost:8080/"
        },
        "outputId": "5ea2f45b-73c4-4549-d73d-b6d3364168fe"
      },
      "source": [
        "#Import de la librairie permettant d'utiliser les expressions régulières\n",
        "import re\n",
        "\n",
        "#1: La phrase commence-t-elle par un ou une ?\n",
        "phrase = \"Un petit chat sur le rebord de la fenêtre.\"\n",
        "resultat = re.search(\"^Un|^Une\",phrase)\n",
        "print(\"Ex 1: \",resultat)\n",
        "\n",
        "#2: Prise en compte des majuscules et minuscules dans la recherche\n",
        "phrase = \"un petit chat sur le rebord de la fenêtre.\"\n",
        "resultat = re.search(\"^[uU]n|^[uU]ne\",phrase)\n",
        "print(\"-\"*10)\n",
        "print(\"Ex 2: \",resultat)\n",
        "\n",
        "#3: Iterations des résultats issus d'une recherche\n",
        "phrase = \"un petit chat, une balle, un arbre.\"\n",
        "resultats = re.finditer(\"[uU]n|[uU]ne\",phrase)\n",
        "lstResultats = list(resultats)\n",
        "print(\"-\"*10)\n",
        "print(\"Ex 3: \")\n",
        "print(lstResultats)\n",
        "for i in range(0,len(lstResultats)):\n",
        "  print(lstResultats[i].span()) #Affichage de la position\n",
        "\n",
        "#4: Le mot se termine-t-il par ais ?\n",
        "phrase = \"balayais\"\n",
        "resultat = re.search(\"ais$\",phrase)\n",
        "print(\"-\"*10)\n",
        "print(\"Ex 4: \",resultat)\n",
        "\n",
        "#5: Le mot se termine-t-il par ais ou ait?\n",
        "phrase = \"balayait\"\n",
        "resultat = re.search(\"ais$|ait$\",phrase)\n",
        "print(\"-\"*10)\n",
        "print(\"Ex 5: \",resultat)\n",
        "\n",
        "#6: Touver l'usage strict d'un mot : Recherche du mot cat\n",
        "#Note : On utilise le r (raw) pour pouvoir utiliser l'instruction \\b \n",
        "phrase = \"cat cathedrale vitrification cat\"\n",
        "resultats = re.finditer(r\"\\b(cat)\\b\",phrase) \n",
        "lstResultats = list(resultats)\n",
        "print(\"-\"*10)\n",
        "print(\"Ex 6: \",lstResultats)\n",
        "\n",
        "#7: Trouver toutes les utilisations d'un mot : Recherche du mot cat\n",
        "phrase = \"cat cathedrale vitrification\"\n",
        "resultats = re.finditer(r\"cat\",phrase)\n",
        "lstResultats = list(resultats)\n",
        "print(\"-\"*10)\n",
        "print(\"Ex 7: \",lstResultats)\n",
        "\n",
        "#8: Découper une chaine de caracteres\n",
        "phrase = \"cat cathedrale vitrification\"\n",
        "resultats = re.split(\" \",phrase)\n",
        "lstResultats = list(resultats)\n",
        "print(\"-\"*10)\n",
        "print(\"Ex 8: \",lstResultats)\n",
        "\n",
        "#9: Effectuer des remplacement\n",
        "phrase = \"manger, feter, ranger\"\n",
        "resultat = re.sub(\"er\",\"era\",phrase)\n",
        "print(\"-\"*10)\n",
        "print(\"Ex 9: \",resultat)"
      ],
      "execution_count": 123,
      "outputs": [
        {
          "output_type": "stream",
          "name": "stdout",
          "text": [
            "Ex 1:  <re.Match object; span=(0, 2), match='Un'>\n",
            "----------\n",
            "Ex 2:  <re.Match object; span=(0, 2), match='un'>\n",
            "----------\n",
            "Ex 3: \n",
            "[<re.Match object; span=(0, 2), match='un'>, <re.Match object; span=(15, 17), match='un'>, <re.Match object; span=(26, 28), match='un'>]\n",
            "(0, 2)\n",
            "(15, 17)\n",
            "(26, 28)\n",
            "----------\n",
            "Ex 4:  <re.Match object; span=(5, 8), match='ais'>\n",
            "----------\n",
            "Ex 5:  <re.Match object; span=(5, 8), match='ait'>\n",
            "----------\n",
            "Ex 6:  [<re.Match object; span=(0, 3), match='cat'>, <re.Match object; span=(29, 32), match='cat'>]\n",
            "----------\n",
            "Ex 7:  [<re.Match object; span=(0, 3), match='cat'>, <re.Match object; span=(4, 7), match='cat'>, <re.Match object; span=(22, 25), match='cat'>]\n",
            "----------\n",
            "Ex 8:  ['cat', 'cathedrale', 'vitrification']\n",
            "----------\n",
            "Ex 9:  mangera, fetera, rangera\n"
          ]
        }
      ]
    },
    {
      "cell_type": "markdown",
      "metadata": {
        "id": "YRb2b-Q4GeXg"
      },
      "source": [
        "Pour aller plus loin, la lecture de l'ouvrage \"Regular Expressions Cookbook: Detailed Solutions in Eight Programming Languages - Jan Goyvaerts\" est conseillée.  \n",
        "> (https://www.amazon.fr/dp/B008Y4OP1O/ref=dp-kindle-redirect?_encoding=UTF8&btkr=1) "
      ]
    },
    {
      "cell_type": "markdown",
      "metadata": {
        "id": "Uc5HrInD-04b"
      },
      "source": [
        "## CAS PRATIQUE : APPLICATION ET CORRECTION DU PLURIEL"
      ]
    },
    {
      "cell_type": "markdown",
      "metadata": {
        "id": "KloOU4204Q9J"
      },
      "source": [
        "### Exercice 1 : Le pluriel d'un mot"
      ]
    },
    {
      "cell_type": "markdown",
      "metadata": {
        "id": "IEoOZuTzNfwA"
      },
      "source": [
        "Ecrire un programme capable d'identifier si l'usage du pluriel est respecté pour un mot donné.\n",
        "- La phrase <b>doit commencer</b> par Les ou Des ou Ces ou Ses\n",
        "- Si la notion de pluriel est détectée, alors le mot à accorder doit se terminer par un s\n",
        "- On ne prendra pas en compte les exceptions française (chevaux...), la présences de multiples indicateurs pluriels\n",
        "\n",
        "Ex : \n",
        "- Les dessins : Pas d'erreur\n",
        "- Les dessin : Erreur\n",
        "- les dessins ! : Pas d'erreur\n",
        "- les dessin. : Erreur\n",
        "- le dessin : Pas de présence de pluriel\n",
        "\n",
        "Aide :\n",
        "- Utiliser le symbole ^ pour détecter la présence de Les, Des, Ces et Ses en début de phrases\n",
        "- Ne pas oublier que la phrase peut ne pas commencer par une majuscule\n",
        "- Attention à la ponctuation et à ses règles de d'utilisation (utilisation d'espace avant un !)\n",
        "- L'usage de la propriété span du retour de l'évaluation par l'expression régulière peut être utile pour cet exercice\n",
        "\n",
        "Bonus :\n",
        "- A l'aide des librairies suivantes, proposer le soulignement de la correction pour les mots\n",
        "  > from IPython.core.display import display, HTML.\n",
        "\n",
        "  Ex:  \n",
        "  Les éléphant !  \n",
        "  Les éléphant<u>s</u> !\n"
      ]
    },
    {
      "cell_type": "code",
      "metadata": {
        "colab": {
          "base_uri": "https://localhost:8080/",
          "height": 51
        },
        "id": "V6pFLqMz4iYr",
        "outputId": "3df838db-bd11-4dcc-efa6-3c767e0b5aef"
      },
      "source": [
        "import re\n",
        "\n",
        "#Librairie permettant l'affichage HTML dans la console\n",
        "from IPython.core.display import display, HTML\n",
        "\n",
        "texte = \"les éléphant !\"\n",
        "\n",
        "#1: Calcul de la longueur de la chaine\n",
        "nbCaracteres = len(texte)\n",
        "\n",
        "#2: Recherche du pluriel\n",
        "recherchePluriel = re.finditer(r\"^[lL]es|^[dD]es|^[cC]es|^[sS]es\", texte)\n",
        "listePluriel = list(recherchePluriel)\n",
        "\n",
        "#Tableau d'erreurs et de corrections\n",
        "erreurs = []\n",
        "corrections = []\n",
        "\n",
        "#3: Si pluriel\n",
        "if len(listePluriel) == 1:\n",
        "  \n",
        "  #Recuperation du token pluriel (les ou des ou ces...)\n",
        "  coordonnees = listePluriel[0].span()\n",
        "  token = texte[coordonnees[0]:coordonnees[1]]\n",
        " \n",
        "  #Recuperation du mot (avec prise en compte de l'espace entre l'indicateur du \n",
        "  #pluriel et du mot) Pour cela on utilise les coordonnées\n",
        "  mot = texte[coordonnees[1]+1:nbCaracteres]\n",
        "\n",
        "  #On supprime les éventuels élements de ponctuation\n",
        "  mot = re.sub(r'[.!?,:]', '', mot)\n",
        "  \n",
        "  #On supprime les éventuels espaces liés à la suppression de la ponctuation\n",
        "  #(On ajoute généralement un espace avant le !)\n",
        "  mot = re.sub(r'[ ]', '', mot)\n",
        "\n",
        "  #Recherche de l'application du pluriel (Se termine par s ou S)\n",
        "  if(len(mot)>0):\n",
        "    accord = re.finditer(r\"[sS]$\", mot)\n",
        "    if len(list(accord))==1:\n",
        "      print(\"Pas d'erreur\")\n",
        "    else:\n",
        "      #Ajout du mot dans la liste d'erreurs\n",
        "      erreurs.append(mot)\n",
        "      corrections.append(mot+\"<u>s</u>\")\n",
        "\n",
        "      #Réalisation des corrections\n",
        "      texteCorrige = texte\n",
        "      for i in range(0,len(erreurs)):\n",
        "        texteCorrige = re.sub(erreurs[i],corrections[i],texteCorrige)\n",
        "\n",
        "      display(HTML(texte))\n",
        "      display(HTML(texteCorrige))\n",
        "else :\n",
        "  print(\"Pluriel non détecté\")\n"
      ],
      "execution_count": 2,
      "outputs": [
        {
          "output_type": "display_data",
          "data": {
            "text/html": [
              "les éléphant !"
            ],
            "text/plain": [
              "<IPython.core.display.HTML object>"
            ]
          },
          "metadata": {}
        },
        {
          "output_type": "display_data",
          "data": {
            "text/html": [
              "les éléphant<u>s</u> !"
            ],
            "text/plain": [
              "<IPython.core.display.HTML object>"
            ]
          },
          "metadata": {}
        }
      ]
    },
    {
      "cell_type": "markdown",
      "metadata": {
        "id": "fTbowE8ONCUd"
      },
      "source": [
        "### Exercice 2 : Le pluriel d'une suite de mots avec prise en compte de la ponctuation"
      ]
    },
    {
      "cell_type": "markdown",
      "metadata": {
        "id": "QH7qZOpzbslX"
      },
      "source": [
        "Ecrire un programme capable d'identifier si l'usage du pluriel est respecté pour une suite de mots donnée.\n",
        "\n",
        "- La phrase doit commencer par Les ou Des ou Ces ou Ses\n",
        "- Si la notion de pluriel est détectée, alors les mots à accorder doivent se terminer par un s\n",
        "- On ne prendra pas en compte les exceptions française (chevaux...)\n",
        "- On ne prendra pas en compte les phrases verbales\n",
        "- On ne prendra pas en compte les énumérations (les chiens, les chats, ...)\n",
        "\n",
        "Ex :\n",
        "- Les petits éléphants roses : Accord OK\n",
        "- Les petits éléphants roses ! : Accord OK\n",
        "- Les petits éléphant rose !: Erreur\n",
        "- Les petit éléphants roses : Erreur\n",
        "- Les petits éléphant roses : Erreur\n",
        "...\n",
        "\n",
        "Aide :\n",
        "\n",
        "- Utiliser le symbole ^ pour détecter la présence de Les, Des, Ces et Ses en début de phrases\n",
        "- Spéficier l'option r (raw string) pour permettre l'utilisation des instructions de type \\b\n",
        "- Ne pas oublier que la phrase peut ne pas commencer par une majuscule\n",
        "- Attention à la ponctuation et à ses règles de d'utilisation (utilisation d'espace avant un !)\n",
        "- L'usage de la propriété span du retour de l'évaluation par l'expression régulière ainsi que la fonction split du module re, peuvent êtres utiles pour cet exercice\n",
        "\n",
        "\n",
        "Bonus :\n",
        "- Proposer un affichage HTML, où seront soulignées les corrections apportées."
      ]
    },
    {
      "cell_type": "code",
      "metadata": {
        "colab": {
          "base_uri": "https://localhost:8080/",
          "height": 51
        },
        "id": "g-5e3wA0NLFk",
        "outputId": "042c0a76-8ac5-4fdd-def5-88d3b3c7d0ce"
      },
      "source": [
        "import re\n",
        "from IPython.core.display import display, HTML\n",
        "\n",
        "#Texte à analyser\n",
        "texte = \"Les petit, elephant rose.\"\n",
        "\n",
        "#1: Calcul de la longueur de la chaine\n",
        "nbCaracteres = len(texte)\n",
        "\n",
        "#2: Recherche du pluriel\n",
        "recherchePluriel = re.finditer(r\"^[lL]es|^[dD]es|^[cC]es|^[sS]es\", texte)\n",
        "listePluriel = list(recherchePluriel)\n",
        "\n",
        "\n",
        "#3: Si pluriel\n",
        "if len(listePluriel) == 1:\n",
        "  \n",
        "  #Recuperation du token pluriel\n",
        "  coordonnees = listePluriel[0].span()\n",
        "  token = texte[coordonnees[0]:coordonnees[1]]\n",
        " \n",
        "  #Recuperation du reste de la phrase (avec prise en compte de l'espace entre \n",
        "  # le token du pluriel et le mot suivant)\n",
        "  phrases = texte[coordonnees[1]+1:nbCaracteres]\n",
        "\n",
        "  #Extraction de la liste de mots\n",
        "  listeMots = re.split(r\" \",phrases)\n",
        "  \n",
        "  corrections = []\n",
        "  erreurs = []\n",
        "  texteCorrige = texte\n",
        "\n",
        "\n",
        "  #Analyse des mots\n",
        "  for mot in listeMots:\n",
        "\n",
        "    #On supprime les éventuels élements de ponctuation\n",
        "    mot = re.sub(r'[.!?,:]', '', mot)\n",
        "\n",
        "    #On supprime les éventuels espaces liés à la suppression de la ponctuation\n",
        "    #(Dans l'usage, on ajoute généralement un espace avant le !)\n",
        "    mot = re.sub(r'[ ]', '', mot)\n",
        "\n",
        "    #Vérification de l'accord à condition que le mot ait une taille supérieure\n",
        "    #à 0 (Cas d'un caractère unique de type ! qui serait supprimé)\n",
        "    if(len(mot)>0):\n",
        "      accord = re.finditer(r\"[sS]$\", mot)\n",
        "      if len(list(accord))!=1:\n",
        "        #Ajout du mot dans la liste d'erreurs\n",
        "        erreurs.append(mot)\n",
        "        corrections.append(mot+\"<u>s</u>\")\n",
        "\n",
        "\n",
        "  #Réalisation des corrections par remplacement\n",
        "  for i in range(0,len(erreurs)):\n",
        "      texteCorrige = re.sub(erreurs[i],corrections[i],texteCorrige)\n",
        "\n",
        "  #Affichage des corrections\n",
        "  if(len(erreurs) > 0):\n",
        "    display(HTML(texte))\n",
        "    display(HTML(texteCorrige))\n",
        "  else:\n",
        "    print(\"Pas d'erreur.\")\n",
        "\n",
        "else :\n",
        "  print(\"Pluriel non détecté\")"
      ],
      "execution_count": 7,
      "outputs": [
        {
          "output_type": "display_data",
          "data": {
            "text/html": [
              "Les petit, elephants roses."
            ],
            "text/plain": [
              "<IPython.core.display.HTML object>"
            ]
          },
          "metadata": {}
        },
        {
          "output_type": "display_data",
          "data": {
            "text/html": [
              "Les petit<u>s</u>, elephants roses."
            ],
            "text/plain": [
              "<IPython.core.display.HTML object>"
            ]
          },
          "metadata": {}
        }
      ]
    },
    {
      "cell_type": "markdown",
      "metadata": {
        "id": "OyNoLAmvKCU5"
      },
      "source": [
        "### Exercice 3 : Le pluriel dans une phrase un peu plus complexe"
      ]
    },
    {
      "cell_type": "markdown",
      "metadata": {
        "id": "mLTQEMWMKSuA"
      },
      "source": [
        "Ecrire un programme capable d'identifier si l'usage du pluriel est respecté pour une suite de mots donnée.  \n",
        "Cet exercice ressemble à l'exercice précédent à la différence que :\n",
        "- La phrase peut ne pas commencer par Les, Des, Ces, Ses mais doit les contenir\n",
        "- On ne prendra pas en compte les énumérations (les chiens, les chats, ...)\n",
        "- On ne prendra pas en compte la présence d'un mot à la fois au singulier et au pluriel dans la même phrase : un arbre, des arbres.\n",
        "\n",
        "<b>Exemple traité :</b> \n",
        "- Jean qui habite près du parc, aime regarder les jolies fleurs jaunes.\n",
        "\n",
        "<b>Exemple NON traité </b> par cet exercice car cela necessite la mise en place d'une analyse lexicale (identification des verbes...):\n",
        "\n",
        "- Jean qui habite près du parc, aime regarder les jolies fleurs jaunes regroupées en tas au pied des arbres.\n",
        "\n",
        "Aide :\n",
        "- Utiliser la notion de word boundaries\n",
        "\n"
      ]
    },
    {
      "cell_type": "code",
      "metadata": {
        "colab": {
          "base_uri": "https://localhost:8080/",
          "height": 51
        },
        "id": "VovVt5KXLD0e",
        "outputId": "00baabf8-4bc2-46e9-e17b-cbd1c12635b5"
      },
      "source": [
        "import re\n",
        "from IPython.core.display import display, HTML\n",
        "\n",
        "#Texte à analyser\n",
        "texte = \"Jean habite près du parc ou se trouvent ces jolie fleur !\"\n",
        "\n",
        "#1: Calcul de la longueur de la chaine\n",
        "nbCaracteres = len(texte)\n",
        "\n",
        "#2: Recherche du pluriel\n",
        "recherchePluriel = re.finditer(r\"\\b[lL]es\\b|\\b[dD]es|\\b[cC]es\\b|\\b[sS]es\\b\", texte)\n",
        "listePluriel = list(recherchePluriel)\n",
        "\n",
        "\n",
        "#3: Si pluriel\n",
        "if len(listePluriel) == 1:\n",
        "  \n",
        "  #Recuperation du token\n",
        "  coordonnees = listePluriel[0].span()\n",
        "  token = texte[coordonnees[0]:coordonnees[1]]\n",
        " \n",
        "  #Recuperation du reste de la phrase (avec prise en compte de l'espace)\n",
        "  phrases = texte[coordonnees[1]+1:nbCaracteres]\n",
        "\n",
        "  #Extraction de la liste de mots\n",
        "  listeMots = re.split(\" \",phrases)\n",
        "  \n",
        "  corrections = []\n",
        "  erreurs = []\n",
        "  texteCorrige = texte\n",
        "  \n",
        "  #Analyse des mots\n",
        "  for mot in listeMots:\n",
        "\n",
        "    #On supprime les éventuels élements de ponctuation\n",
        "    mot = re.sub('[.!?,:]', '', mot)\n",
        "\n",
        "    #On supprime les éventuels espaces liés à la suppression de la ponctuation\n",
        "    #(On ajoute généralement un espace avant le !)\n",
        "    mot = re.sub('[ ]', '', mot)\n",
        "\n",
        "    #Vérification de l'accord à condition que le mot ait une taille supérieure\n",
        "    #à 0 (Cas d'un caractère unique de type ! qui serait supprimé)\n",
        "    if(len(mot)>0):\n",
        "      accord = re.finditer(r\"[sS]$\", mot)\n",
        "      if len(list(accord))!=1:\n",
        "        #Ajout du mot dans la liste d'erreurs\n",
        "        erreurs.append(mot)\n",
        "        corrections.append(mot+\"<u>s</u>\")\n",
        "\n",
        "\n",
        "  #Réalisation des corrections par remplacement\n",
        "  for i in range(0,len(erreurs)):\n",
        "      texteCorrige = re.sub(erreurs[i],corrections[i],texteCorrige)\n",
        "\n",
        "  #Affichage des corrections\n",
        "  if(len(erreurs) > 0):\n",
        "    display(HTML(texte))\n",
        "    display(HTML(texteCorrige))\n",
        "  else:\n",
        "    print(\"Pas d'erreur.\")\n",
        "\n",
        "else :\n",
        "  print(\"Pluriel non détecté\")"
      ],
      "execution_count": 9,
      "outputs": [
        {
          "output_type": "display_data",
          "data": {
            "text/html": [
              "Jean habite près du parc ou se trouvent ces jolie fleur !"
            ],
            "text/plain": [
              "<IPython.core.display.HTML object>"
            ]
          },
          "metadata": {}
        },
        {
          "output_type": "display_data",
          "data": {
            "text/html": [
              "Jean habite près du parc ou se trouvent ces jolie<u>s</u> fleur<u>s</u> !"
            ],
            "text/plain": [
              "<IPython.core.display.HTML object>"
            ]
          },
          "metadata": {}
        }
      ]
    },
    {
      "cell_type": "markdown",
      "metadata": {
        "id": "l3WQju1gNATE"
      },
      "source": [
        "### Exercice 4 : Le pluriel dans une phrase un peu plus complexe (suite)"
      ]
    },
    {
      "cell_type": "markdown",
      "metadata": {
        "id": "G9V2IcqWAEv5"
      },
      "source": [
        "Même exercice que précédemment mais cette fois ci :\n",
        "- Prise en compte des énumérations et de plusieurs utilisations des mots les, des, ces, ses\n",
        "- Prise en compte d'un même mot pouvant à la fois être au singulier et au pluriel dans la même phrase : un arbre, des arbres\n",
        "- Utilisation possible de la conjonction de coordination : et\n",
        "\n",
        "Aide :\n",
        "- La stratégie de remplacement par les corrections ne peut s'appliquer ici, au risque de remplacer un mot singulier par un mot au pluriel. Il convient alors d'utiliser la relation existante, entre le pluriel (les, des,...) et la phrase concernée par celui-ci, afin de n'apporter que des corrections sur cette phrase:\n",
        "Ex :\n",
        "- \"Regarde cet arbre et ces arbre !\"\n",
        "On recherche le token ces et on corrige la phrase liées à ce token :  \n",
        "  - Regarde cet arbre et ces arbre<u>s</s>\n",
        "\n"
      ]
    },
    {
      "cell_type": "markdown",
      "metadata": {
        "id": "L4cSdk0kVNih"
      },
      "source": [
        "Exemple de texte à valider :\n",
        "- Regarde cet arbre et ces arbre !\n",
        "- il aime les arbre et les fleur !!\n",
        "- il habite prés de la forêt ou se trouve un arbre, des arbuste et ces fleur\n",
        "- nous avons mangé des pomme et des banane jaune\n",
        "\n",
        "Corrections attendues :\n",
        "- Regarde cet arbre et ces arbre<u>s</u> !\n",
        "- il aime les arbre<u>s</u> et les fleur<u>s</u> !!\n",
        "- il habite prés de la forêt ou se trouve un arbre, des arbuste<u>s</u> et ces fleur<u>s</u>\n",
        "- nous avons mangé des pomme<u>s</u> et des banane<u>s</u> jaune<u>s</u>"
      ]
    },
    {
      "cell_type": "code",
      "metadata": {
        "id": "7sU4Q4F3NI4O",
        "colab": {
          "base_uri": "https://localhost:8080/",
          "height": 51
        },
        "outputId": "21f34f7c-6302-411d-b62a-2e63e65c948e"
      },
      "source": [
        "import re\n",
        "from IPython.core.display import display, HTML\n",
        "\n",
        "#Texte à analyser\n",
        "texte = \"il habite prés de la forêt ou se trouve un arbre, des arbuste et ces fleur et ces chevalet.\"\n",
        "\n",
        "#Initialisation du nombre d'erreurs détectées\n",
        "nbErreurs = 0\n",
        "\n",
        "#1: Calcul de la longueur de la chaine\n",
        "nbCaracteres = len(texte)\n",
        "\n",
        "#2: Recherche du pluriel\n",
        "recherchePluriel = re.finditer(r\"\\b[lL]es\\b|\\b[dD]es|\\b[cC]es\\b|\\b[sS]es\\b\", texte)\n",
        "listePluriels = list(recherchePluriel)\n",
        "\n",
        "\n",
        "if len(listePluriels)>0:\n",
        "\n",
        "  #3: Pour chaque pluriel détecté extraction des coordonnées :\n",
        "  tokens =[]\n",
        "  for pluriel in listePluriels:\n",
        "    tokens.append(pluriel.span())\n",
        "\n",
        "  #4: Extraction des phrases relatives à chaque pluriel\n",
        "  phrases = []\n",
        "  for index in range (0,len(tokens)):\n",
        "    debutPhrase = tokens[index][1]+1\n",
        "    if index+1 < len(tokens):\n",
        "      finPhrase = tokens[index+1][0]\n",
        "    else:\n",
        "      finPhrase = nbCaracteres\n",
        "    phrases.append(texte[debutPhrase:finPhrase])\n",
        "\n",
        "\n",
        "  #5: Extraction et préparation des mots\n",
        "  #Pour chacun des tokens pluriel, on recherche les mots à analyser dans la phrase \n",
        "  #correspondante à ce token\n",
        "\n",
        "  #Initialisation d'un tableau permettant de stocker :\n",
        "  # Le token associé\n",
        "  # Le mot\n",
        "  # Sa correction éventuelle\n",
        "  tableauMots = []\n",
        "  #Pour chacun des tokens\n",
        "  for indexToken in range(0,len(tokens)):\n",
        "\n",
        "    #Extraction de la liste de mots de la phrase associée\n",
        "    listeMots = re.split(\" \",phrases[indexToken])\n",
        "    \n",
        "    #Préparation des mots\n",
        "    for mot in listeMots:\n",
        "\n",
        "      #On supprime les éventuels élements de ponctuation\n",
        "      mot = re.sub('[.!?,:]', '', mot)\n",
        "\n",
        "      #On supprime la conjonction de coordination et car elle ne s'accorde pas\n",
        "      cccc\n",
        "\n",
        "      #On supprime les éventuels espaces liés à la suppression de la ponctuation\n",
        "      #(On ajoute généralement un espace avant le !)\n",
        "      mot = re.sub('[ ]', '', mot)\n",
        "\n",
        "      #On stocke le token associé au mot\n",
        "      tableauMots.append([indexToken,mot,\"\"])\n",
        "\n",
        "\n",
        "  #6: Analyse des mots de chacune des phrases\n",
        "  nbAccords = 0\n",
        "  for i in range(len(tableauMots)):\n",
        "    mot = tableauMots[i][1]\n",
        "    \n",
        "    if(len(mot)>0):  \n",
        "      accord = re.finditer(r\"[sS]$\", mot)\n",
        "      if len(list(accord))!=1:\n",
        "        #Ajout de la correction\n",
        "        nbErreurs += 1\n",
        "        tableauMots[i][2]=mot+\"<u>s</u>\"\n",
        "\n",
        "\n",
        "\n",
        "  #7: Correction des phrases liées à chaque token\n",
        "  #Pour chacune des phrases à analyser\n",
        "  for indexPhrases in range(0,len(phrases)):\n",
        "\n",
        "    #Récuperation de la phrase\n",
        "    phrase = phrases[indexPhrases]\n",
        "\n",
        "    #Recherche des corrections éventuelles\n",
        "    for i in range(0,len(tableauMots)):\n",
        "      indexToken = tableauMots[i][0]\n",
        "      correction = tableauMots[i][2]\n",
        "      if(indexToken==indexPhrases and correction!=\"\"):\n",
        "        motAremplacer = tableauMots[i][1]\n",
        "        phrase = re.sub(motAremplacer,correction,phrase)\n",
        "\n",
        "    \n",
        "    #On remplace la phrase par sa correction\n",
        "    phrases[indexPhrases] = phrase\n",
        "\n",
        "\n",
        "\n",
        "  #8: Reconstruction du texte complet et affichage\n",
        "  #Le début de texte se trouve avant le premier token\n",
        "  texteCorrige = \"\"\n",
        "  positionPremierToken = tokens[0][0]\n",
        "  texteCorrige += texte[0:positionPremierToken]\n",
        "\n",
        "  #Pour chaque token on récupere son libellé et sa phrase éventuellement corrigée\n",
        "  for i in range(0,len(tokens)):\n",
        "    labelToken = texte[tokens[i][0]:tokens[i][1]]\n",
        "    texteCorrige += labelToken\n",
        "    texteCorrige += \" \"+phrases[i]\n",
        "\n",
        "  #Affichage des corrections\n",
        "  if(nbErreurs>0):\n",
        "    display(HTML(texte))\n",
        "    display(HTML(texteCorrige))\n",
        "  else:\n",
        "    print(\"Pas d'erreur\")\n",
        "\n",
        "else :\n",
        "  print(\"Pluriel non détecté\")\n"
      ],
      "execution_count": 85,
      "outputs": [
        {
          "output_type": "display_data",
          "data": {
            "text/html": [
              "il habite prés de la forêt ou se trouve un arbre, des arbuste et ces fleur et ces chevalet."
            ],
            "text/plain": [
              "<IPython.core.display.HTML object>"
            ]
          },
          "metadata": {}
        },
        {
          "output_type": "display_data",
          "data": {
            "text/html": [
              "il habite prés de la forêt ou se trouve un arbre, des arbuste<u>s</u> et ces fleur<u>s</u> et ces chevalet<u>s</u>."
            ],
            "text/plain": [
              "<IPython.core.display.HTML object>"
            ]
          },
          "metadata": {}
        }
      ]
    },
    {
      "cell_type": "markdown",
      "metadata": {
        "id": "1mmhNMZNho-W"
      },
      "source": [
        "### Exercice 5 : Différents pluriels et exceptions associées"
      ]
    },
    {
      "cell_type": "markdown",
      "metadata": {
        "id": "6uwt31oRrg1K"
      },
      "source": [
        "\n",
        "Améliorer le correcteur orthographique à partir des règle suivantes :\n",
        "\n",
        "-AU -EAU -EU\n",
        "\n",
        "Pour former le pluriel des noms qui se terminent par –au, –eau et –eu, il faut ajouter un x à la fin du nom singulier : un chameau, des chameaux.\n",
        "\n",
        "Quatre noms font exception à cette règle ; il s’agit des noms landau,\n",
        "sarrau, bleu et pneu, auxquels on ajoute plutôt un s.\n",
        "\n",
        "\n",
        "-AL\n",
        "\n",
        "Pour former le pluriel des noms qui se terminent par –al, il faut modifier la terminaison du nom singulier en –al par –aux : un hôpital, des hôpitaux ; un cheval, des chevaux.\n",
        "Plusieurs noms font exception à cette règle, entre autres les noms aval,\n",
        "bal, cal, carnaval, chacal, festival, pal, récital et régal, auxquels on ajoute un s.\n",
        "\n",
        "-OU  \n",
        "\n",
        "Pour former le pluriel des noms qui se terminent par –ou, il faut ajouter un s à la fin du nom singulier : un fou, des fous.  \n",
        "Sept noms font exception à cette règle ; il s’agit des noms bijou, caillou,\n",
        "chou, genou, hibou, joujou et pou, auxquels on ajoute un x.\n",
        "\n",
        "-AIL\n",
        "\n",
        "Pour former le pluriel des noms qui se terminent par –ail, il faut ajouter un s à la fin du nom singulier : un éventail, des éventails.  \n",
        "Quelques noms font exception à cette règle ; il s’agit des noms bail, corail,\n",
        "émail, fermail, gemmail, soupirail, travail, vantail, ventail et vitrail, dont il faut remplacer la terminaison par –aux.\n",
        "\n",
        "\n",
        "Exemple de texte à valider :\n",
        "- des chevals.\n",
        "- des cheval noir !!\n",
        "- des chevaux noir.\n",
        "- Elle portait ses bijoux rouge.\n",
        "- Regarde ces hibou cachés dans les arbre.\n",
        "- Les petit filou !!\n",
        "- Au temps des carnaval\n",
        "- ces jeu, des pneux\n",
        "\n",
        "Corrections attendues :\n",
        "- des chev<u>aux</u>.\n",
        "- des chev<u>aux</u> noir<u>s</u> !!\n",
        "- des chevaux noir<u>s</u>.\n",
        "- Elle portait ses bijoux rouge<u>s</u>.\n",
        "- Regarde ces hibou<u>x</u> cachés dans les arbre<u>s</u>.\n",
        "- Les petit<u>s</u> filou<u>s</u> !!\n",
        "- Au temps des carnaval<u>s</u>\n",
        "- ces jeu<u>x</u>, des pneu<u>s</u>\n",
        "\n"
      ]
    },
    {
      "cell_type": "code",
      "metadata": {
        "id": "tjnFWbg_h-tu",
        "colab": {
          "base_uri": "https://localhost:8080/",
          "height": 51
        },
        "outputId": "72cc3305-7bfe-4c4c-c093-060effda7465"
      },
      "source": [
        "import re\n",
        "from IPython.core.display import display, HTML\n",
        "\n",
        "#Texte à valider\n",
        "texte = \"des chevaux noir\"\n",
        "\n",
        "#Initialisation du nombre d'erreurs détectées\n",
        "nbErreurs = 0\n",
        "\n",
        "#Liste d'exceptions:\n",
        "exceptions_AL = \"bal|cal|carnaval|chacal|festival|pal|récital|régal|choral\"\n",
        "exceptions_AU_EAU_EU = \"landau|sarrau|bleu|pneu\"\n",
        "exceptions_OU = \"bijou|caillou|chou|genou|hibou|joujou|pou\"\n",
        "exceptions_AIL = \"bail|corail|émail|fermail|gemmail|soupirail|travail|vantail|vitrail\"\n",
        "\n",
        "\n",
        "#1: Calcul de la longueur de la chaine\n",
        "nbCaracteres = len(texte)\n",
        "\n",
        "#2: Recherche du pluriel\n",
        "recherchePluriel = re.finditer(r\"\\b[lL]es\\b|\\b[dD]es|\\b[cC]es\\b|\\b[sS]es\\b\", texte)\n",
        "listePluriels = list(recherchePluriel)\n",
        "\n",
        "\n",
        "if (len(listePluriels)>0):\n",
        "\n",
        "  #3: Pour chaque pluriel détecté extraction des coordonnées :\n",
        "  tokens =[]\n",
        "  for pluriel in listePluriels:\n",
        "    tokens.append(pluriel.span())\n",
        "\n",
        "  #4: Extraction des phrases relatives à chaque pluriel\n",
        "  phrases = []\n",
        "  for index in range (0,len(tokens)):\n",
        "    debutPhrase = tokens[index][1]+1\n",
        "    if index+1 < len(tokens):\n",
        "      finPhrase = tokens[index+1][0]\n",
        "    else:\n",
        "      finPhrase = nbCaracteres\n",
        "    phrases.append(texte[debutPhrase:finPhrase])\n",
        "\n",
        "\n",
        "  #5: Extraction et préparation des mots\n",
        "  tableauMots = []\n",
        "  #Pour chacun des tokens\n",
        "  for indexToken in range(0,len(tokens)):\n",
        "\n",
        "    #Extraction de la liste de mots de la phrase associée\n",
        "    listeMots = re.split(\" \",phrases[indexToken])\n",
        "    \n",
        "    #Préparation des mots\n",
        "    for mot in listeMots:\n",
        "\n",
        "      #On supprime les éventuels élements de ponctuation\n",
        "      mot = re.sub('[.!?,:]', '', mot)\n",
        "\n",
        "      #On supprime la conjonction de coordination et car elle ne s'accorde pas\n",
        "      mot = re.sub(r'\\bet\\b', '', mot)\n",
        "\n",
        "      #On supprime les éventuels espaces liés à la suppression de la ponctuation\n",
        "      #(On ajoute généralement un espace avant le !)\n",
        "      mot = re.sub('[ ]', '', mot)\n",
        "\n",
        "      #On stocke le token associé au mot\n",
        "      tableauMots.append([indexToken,mot,\"\"])\n",
        "\n",
        "\n",
        "  #6: Analyse des mots de chacune des phrases\n",
        "  for i in range(len(tableauMots)):\n",
        "    mot = tableauMots[i][1]\n",
        "    \n",
        "    if(len(mot)>0):  \n",
        "\n",
        "      #Le mot fait-il parti des mots en AL,EAU...\n",
        "      casParticulier = False\n",
        "\n",
        "      #On enlève le s ou le x final pouvant avoir été ajouté pour faire le pluriel\n",
        "      #> des chevals par exemple (application de la règle du pluriel par défaut).\n",
        "      #devient des cheval, ce mot rentrera dans la validation des mots en al\n",
        "      #> des chevaux devient des chevau. Ce mot entrera dans la valiation des mots\n",
        "      #en au et un x lui sera appliqué \n",
        "      #Cela permet de vérifier les différents type d'accord\n",
        "      motSansS = re.sub(\"[sSxX]$\",\"\",mot)\n",
        "\n",
        "      #Cas en AL\n",
        "      if (re.search(r\"al$\",motSansS)!=None):\n",
        "        casParticulier = True\n",
        "        #Le mot sans S fait il parti des exceptions ?\n",
        "        if (re.search(r\"\"+exceptions_AL,motSansS)!=None):\n",
        "          #Si oui, recherche du s final dans le mot originel\n",
        "          accord = re.finditer(r\"[sS]$\", mot)\n",
        "          if len(list(accord))!=1:\n",
        "            nbErreurs += 1\n",
        "            tableauMots[i][2]=motSansS+\"<u>s</u>\"\n",
        "        #Si le mot sans S ne fait pas parti des exceptions\n",
        "        else:\n",
        "          #Recherche du la présence du aux en fin de mots originel\n",
        "          accord = re.finditer(r\"[auxAUX]$\", mot)\n",
        "          if len(list(accord))!=1:\n",
        "            nbErreurs += 1\n",
        "            tableauMots[i][2]=re.sub(\"al$\",\"<u>aux</u>\",motSansS)\n",
        "\n",
        "\n",
        "      #Cas en AU, EAU et EU\n",
        "      if (re.search(r\"au$|eau$|eu$\",motSansS)!=None):\n",
        "        casParticulier = True\n",
        "        if (re.search(r\"\"+exceptions_AU_EAU_EU,motSansS)!=None):\n",
        "          accord = re.finditer(r\"[sS]$\", mot)\n",
        "          if len(list(accord))!=1:\n",
        "            nbErreurs += 1\n",
        "            tableauMots[i][2]=motSansS+\"<u>s</u>\"\n",
        "        else:\n",
        "          accord = re.finditer(r\"[xX]$\", mot)\n",
        "          if len(list(accord))!=1:\n",
        "            nbErreurs += 1\n",
        "            tableauMots[i][2]=motSansS+\"<u>x</u>\"\n",
        "\n",
        "\n",
        "      #Cas en OU\n",
        "      if (re.search(r\"ou$\",motSansS)!=None):\n",
        "        casParticulier = True\n",
        "        if (re.search(r\"\"+exceptions_OU,motSansS)!=None):\n",
        "          accord = re.finditer(r\"[xX]$\", mot)\n",
        "          if len(list(accord))!=1:\n",
        "            nbErreurs += 1\n",
        "            tableauMots[i][2]=motSansS+\"<u>x</u>\"\n",
        "        else:\n",
        "          accord = re.finditer(r\"[sS]$\", mot)\n",
        "          if len(list(accord))!=1:\n",
        "            nbErreurs += 1\n",
        "            tableauMots[i][2]=motSansS+\"<u>s</u>\"\n",
        "\n",
        "\n",
        "      #Cas en AIL\n",
        "      if (re.search(r\"ail$\",motSansS)!=None):\n",
        "        casParticulier = True\n",
        "        if (re.search(r\"\"+exceptions_AIL,motSansS)!=None):\n",
        "          accord = re.finditer(r\"[auxAUX]$\", mot)\n",
        "          if len(list(accord))!=1:\n",
        "            tableauMots[i][2]=re.sub(\"ail$\",\"<u>aux</u>\",motSansS)\n",
        "        else:\n",
        "          accord = re.finditer(r\"[sS]$\", mot)\n",
        "          if len(list(accord))!=1:\n",
        "            nbErreurs += 1\n",
        "            tableauMots[i][2]=motSansS+\"<u>s</u>\"\n",
        "      \n",
        "      #Cas normal ou supposé normal en fonction de la terminaison, car si\n",
        "      #on note la présence d'un s ou d'un x on suppose que l'accord est \n",
        "      #correctement effectué. Des cheveaux pourra donc être considéré comme\n",
        "      #Ok. Pour corriger cette erreur, nous devrions rechercher le singulier des\n",
        "      #mots pour en déduire ensuite le bon orthographe du pluriel.\n",
        "      if(casParticulier==False):\n",
        "        accord = re.finditer(r\"[sS|xX]$\", mot)\n",
        "        if len(list(accord))!=1:\n",
        "            nbErreurs += 1\n",
        "            tableauMots[i][2]=motSansS+\"<u>s</u>\"\n",
        "\n",
        "\n",
        "  #7: Correction des phrases liées à chaque token\n",
        "  #Pour chacune des phrases à analyser\n",
        "  for indexPhrases in range(0,len(phrases)):\n",
        "\n",
        "    #Récuperation de la phrase\n",
        "    phrase = phrases[indexPhrases]\n",
        "\n",
        "    #Recherche des corrections éventuelles\n",
        "    for i in range(0,len(tableauMots)):\n",
        "      indexToken = tableauMots[i][0]\n",
        "      correction = tableauMots[i][2]\n",
        "      if(indexToken==indexPhrases and correction!=\"\"):\n",
        "        motAremplacer = tableauMots[i][1]\n",
        "        phrase = re.sub(motAremplacer,correction,phrase)\n",
        "\n",
        "    \n",
        "    #On remplace la phrase par sa correction\n",
        "    phrases[indexPhrases] = phrase\n",
        "\n",
        "\n",
        "\n",
        "  #8: Reconstruction du texte complet et affichage\n",
        "  #Le début de texte se trouve avant le premier token\n",
        "  texteCorrige = \"\"\n",
        "  positionPremierToken = tokens[0][0]\n",
        "  texteCorrige += texte[0:positionPremierToken]\n",
        "\n",
        "  #Pour chaque token on récupere son libellé et sa phrase éventuellement corrigée\n",
        "  for i in range(0,len(tokens)):\n",
        "    labelToken = texte[tokens[i][0]:tokens[i][1]]\n",
        "    texteCorrige += labelToken\n",
        "    texteCorrige += \" \"+phrases[i]\n",
        "\n",
        "  #Affichage des corrections\n",
        "  if(nbErreurs>0):\n",
        "    display(HTML(texte))\n",
        "    display(HTML(texteCorrige))\n",
        "  else:\n",
        "    print(\"Pas d'erreur\")\n",
        "\n",
        "else:\n",
        "  print(\"Pluriel non détecté\")"
      ],
      "execution_count": 86,
      "outputs": [
        {
          "output_type": "display_data",
          "data": {
            "text/html": [
              "des chevaux noir"
            ],
            "text/plain": [
              "<IPython.core.display.HTML object>"
            ]
          },
          "metadata": {}
        },
        {
          "output_type": "display_data",
          "data": {
            "text/html": [
              "des chevaux noir<u>s</u>"
            ],
            "text/plain": [
              "<IPython.core.display.HTML object>"
            ]
          },
          "metadata": {}
        }
      ]
    },
    {
      "cell_type": "markdown",
      "metadata": {
        "id": "Y_koRWjCcUDd"
      },
      "source": [
        "### Exercice 6 : Test sur un exercice de classe de CE1\n",
        "\n",
        "Ecrire une fonction du code précédent\n",
        "\n",
        "Une fois cette fonction écrite:  \n",
        "- l'utiliser pour mettre au pluriel les mots suivants (exercice issu d'une classe de CE1) :\n",
        "\n",
        "\n",
        "```\n",
        "accordsARealiser = [\"des oiseau\",\"des feu\", \"ces bureau\", \"des pneu\", \"des bateau\",\n",
        "           \"des sceau\",\"des eau\", \"des bleu\", \"ces boyau\", \"des essieu\",\n",
        "           \"des noyau\", \"des landau\", \"des dieu\", \"des joyau\", \"des sarrau\", \n",
        "           \"les chapeau\", \"ces milieu\", \"des tableau\"]\n",
        "\n",
        "```\n",
        "\n",
        "\n",
        "\n",
        "- L'utiliser pour valider les accords des mots suivants (exercice issu d'une classe de CE1) :\n",
        "\n",
        "\n",
        "\n",
        "```\n",
        "accordsAVerifier = [\"Des chorals\", \"Des générals\", \"des régals\", \"des journals\",\n",
        "                    \"des métaux\", \"Les miroir, les métals, les étoffe\", \n",
        "                    \"des cou\", \"les kangourou\", \"les caillous\", \"les détail\", \"les rails\",\"des cheveux\"]\n",
        "```\n",
        "\n",
        "\n",
        "\n"
      ]
    },
    {
      "cell_type": "code",
      "metadata": {
        "id": "YPoCkIluclqo"
      },
      "source": [
        "import re\n",
        "from IPython.core.display import display, HTML\n",
        "\n",
        "def verificationAccordPluriel(texteParametre):\n",
        "  \n",
        "  #Texte à valider\n",
        "  texte = texteParametre\n",
        "\n",
        "  #Initialisation du nombre d'erreurs détectées\n",
        "  nbErreurs = 0\n",
        "\n",
        "  #Liste d'exceptions:\n",
        "  exceptions_AL = \"bal|cal|carnaval|chacal|festival|pal|récital|régal|choral\"\n",
        "  exceptions_AU_EAU_EU = \"landau|sarrau|bleu|pneu\"\n",
        "  exceptions_OU = \"bijou|caillou|chou|genou|hibou|joujou|pou\"\n",
        "  exceptions_AIL = \"bail|corail|émail|fermail|gemmail|soupirail|travail|vantail|vitrail\"\n",
        "\n",
        "\n",
        "  #1: Calcul de la longueur de la chaine\n",
        "  nbCaracteres = len(texte)\n",
        "\n",
        "  #2: Recherche du pluriel\n",
        "  recherchePluriel = re.finditer(r\"\\b[lL]es\\b|\\b[dD]es|\\b[cC]es\\b|\\b[sS]es\\b\", texte)\n",
        "  listePluriels = list(recherchePluriel)\n",
        "\n",
        "\n",
        "  if (len(listePluriels)>0):\n",
        "\n",
        "    #3: Pour chaque pluriel détecté extraction des coordonnées :\n",
        "    tokens =[]\n",
        "    for pluriel in listePluriels:\n",
        "      tokens.append(pluriel.span())\n",
        "\n",
        "    #4: Extraction des phrases relatives à chaque pluriel\n",
        "    phrases = []\n",
        "    for index in range (0,len(tokens)):\n",
        "      debutPhrase = tokens[index][1]+1\n",
        "      if index+1 < len(tokens):\n",
        "        finPhrase = tokens[index+1][0]\n",
        "      else:\n",
        "        finPhrase = nbCaracteres\n",
        "      phrases.append(texte[debutPhrase:finPhrase])\n",
        "\n",
        "\n",
        "    #5: Extraction et préparation des mots\n",
        "    tableauMots = []\n",
        "    #Pour chacun des tokens\n",
        "    for indexToken in range(0,len(tokens)):\n",
        "\n",
        "      #Extraction de la liste de mots de la phrase associée\n",
        "      listeMots = re.split(\" \",phrases[indexToken])\n",
        "      \n",
        "      #Préparation des mots\n",
        "      for mot in listeMots:\n",
        "\n",
        "        #On supprime les éventuels élements de ponctuation\n",
        "        mot = re.sub('[.!?,:]', '', mot)\n",
        "\n",
        "        #On supprime la conjonction de coordination et car elle ne s'accorde pas\n",
        "        mot = re.sub(r'\\bet\\b', '', mot)\n",
        "\n",
        "        #On supprime les éventuels espaces liés à la suppression de la ponctuation\n",
        "        #(On ajoute généralement un espace avant le !)\n",
        "        mot = re.sub('[ ]', '', mot)\n",
        "\n",
        "        #On stocke le token associé au mot\n",
        "        tableauMots.append([indexToken,mot,\"\"])\n",
        "\n",
        "\n",
        "    #6: Analyse des mots de chacune des phrases\n",
        "    for i in range(len(tableauMots)):\n",
        "      mot = tableauMots[i][1]\n",
        "      \n",
        "      if(len(mot)>0):  \n",
        "\n",
        "        #Le mot fait-il parti des mots en AL,EAU...\n",
        "        casParticulier = False\n",
        "\n",
        "        #On enlève le s ou le x final pouvant avoir été ajouté pour faire le pluriel\n",
        "        #> des chevals par exemple (application de la règle du pluriel par défaut).\n",
        "        #devient des cheval, ce mot rentrera dans la validation des mots en al\n",
        "        #> des chevaux devient des chevau. Ce mot entrera dans la valiation des mots\n",
        "        #en au et un x lui sera appliqué \n",
        "        #Cela permet de vérifier les différents type d'accord\n",
        "        motSansS = re.sub(\"[sSxX]$\",\"\",mot)\n",
        "\n",
        "        #Cas en AL\n",
        "        if (re.search(r\"al$\",motSansS)!=None):\n",
        "          casParticulier = True\n",
        "          #Le mot sans S fait il parti des exceptions ?\n",
        "          if (re.search(r\"\"+exceptions_AL,motSansS)!=None):\n",
        "            #Si oui, recherche du s final dans le mot originel\n",
        "            accord = re.finditer(r\"[sS]$\", mot)\n",
        "            if len(list(accord))!=1:\n",
        "              nbErreurs += 1\n",
        "              tableauMots[i][2]=motSansS+\"<u>s</u>\"\n",
        "          #Si le mot sans S ne fait pas parti des exceptions\n",
        "          else:\n",
        "            #Recherche du la présence du aux en fin de mots originel\n",
        "            accord = re.finditer(r\"[auxAUX]$\", mot)\n",
        "            if len(list(accord))!=1:\n",
        "              nbErreurs += 1\n",
        "              tableauMots[i][2]=re.sub(\"al$\",\"<u>aux</u>\",motSansS)\n",
        "\n",
        "\n",
        "        #Cas en AU, EAU et EU\n",
        "        if (re.search(r\"au$|eau$|eu$\",motSansS)!=None):\n",
        "          casParticulier = True\n",
        "          if (re.search(r\"\"+exceptions_AU_EAU_EU,motSansS)!=None):\n",
        "            accord = re.finditer(r\"[sS]$\", mot)\n",
        "            if len(list(accord))!=1:\n",
        "              nbErreurs += 1\n",
        "              tableauMots[i][2]=motSansS+\"<u>s</u>\"\n",
        "          else:\n",
        "            accord = re.finditer(r\"[xX]$\", mot)\n",
        "            if len(list(accord))!=1:\n",
        "              nbErreurs += 1\n",
        "              tableauMots[i][2]=motSansS+\"<u>x</u>\"\n",
        "\n",
        "\n",
        "        #Cas en OU\n",
        "        if (re.search(r\"ou$\",motSansS)!=None):\n",
        "          casParticulier = True\n",
        "          if (re.search(r\"\"+exceptions_OU,motSansS)!=None):\n",
        "            accord = re.finditer(r\"[xX]$\", mot)\n",
        "            if len(list(accord))!=1:\n",
        "              nbErreurs += 1\n",
        "              tableauMots[i][2]=motSansS+\"<u>x</u>\"\n",
        "          else:\n",
        "            accord = re.finditer(r\"[sS]$\", mot)\n",
        "            if len(list(accord))!=1:\n",
        "              nbErreurs += 1\n",
        "              tableauMots[i][2]=motSansS+\"<u>s</u>\"\n",
        "\n",
        "\n",
        "        #Cas en AIL\n",
        "        if (re.search(r\"ail$\",motSansS)!=None):\n",
        "          casParticulier = True\n",
        "          if (re.search(r\"\"+exceptions_AIL,motSansS)!=None):\n",
        "            accord = re.finditer(r\"[auxAUX]$\", mot)\n",
        "            if len(list(accord))!=1:\n",
        "              tableauMots[i][2]=re.sub(\"ail$\",\"<u>aux</u>\",motSansS)\n",
        "          else:\n",
        "            accord = re.finditer(r\"[sS]$\", mot)\n",
        "            if len(list(accord))!=1:\n",
        "              nbErreurs += 1\n",
        "              tableauMots[i][2]=motSansS+\"<u>s</u>\"\n",
        "        \n",
        "        #Cas normal ou supposé normal en fonction de la terminaison, car si\n",
        "        #on note la présence d'un s ou d'un x on suppose que l'accord est \n",
        "        #correctement effectué. Des cheveaux pourra donc être considéré comme\n",
        "        #Ok. Pour corriger cette erreur, nous devrions rechercher le singulier des\n",
        "        #mots pour en déduire ensuite le bon orthographe du pluriel.\n",
        "        if(casParticulier==False):\n",
        "          \n",
        "          accord = re.finditer(r\"[sS|xX]$\", mot)\n",
        "          if len(list(accord))!=1:\n",
        "              nbErreurs += 1\n",
        "              tableauMots[i][2]=motSansS+\"<u>s</u>\"\n",
        "\n",
        "\n",
        "    #7: Correction des phrases liées à chaque token\n",
        "    #Pour chacune des phrases à analyser\n",
        "    for indexPhrases in range(0,len(phrases)):\n",
        "\n",
        "      #Récuperation de la phrase\n",
        "      phrase = phrases[indexPhrases]\n",
        "\n",
        "      #Recherche des corrections éventuelles\n",
        "      for i in range(0,len(tableauMots)):\n",
        "        indexToken = tableauMots[i][0]\n",
        "        correction = tableauMots[i][2]\n",
        "        if(indexToken==indexPhrases and correction!=\"\"):\n",
        "          motAremplacer = tableauMots[i][1]\n",
        "          phrase = re.sub(motAremplacer,correction,phrase)\n",
        "\n",
        "      \n",
        "      #On remplace la phrase par sa correction\n",
        "      phrases[indexPhrases] = phrase\n",
        "\n",
        "\n",
        "\n",
        "    #8: Reconstruction du texte complet et affichage\n",
        "    #Le début de texte se trouve avant le premier token\n",
        "    texteCorrige = \"\"\n",
        "    positionPremierToken = tokens[0][0]\n",
        "    texteCorrige += texte[0:positionPremierToken]\n",
        "\n",
        "    #Pour chaque token on récupere son libellé et sa phrase éventuellement corrigée\n",
        "    for i in range(0,len(tokens)):\n",
        "      labelToken = texte[tokens[i][0]:tokens[i][1]]\n",
        "      texteCorrige += labelToken\n",
        "      texteCorrige += \" \"+phrases[i]\n",
        "\n",
        "    #Renvoi des corrections\n",
        "    if(nbErreurs>0):\n",
        "      return texteCorrige\n",
        "    else:\n",
        "      return(\"Pas d'erreur\")\n",
        "\n",
        "  else:\n",
        "    return(\"Pluriel non détecté\")\n",
        "\n"
      ],
      "execution_count": 92,
      "outputs": []
    },
    {
      "cell_type": "markdown",
      "metadata": {
        "id": "ELEO6xT8e1O7"
      },
      "source": [
        "#### Mettre au pluriel"
      ]
    },
    {
      "cell_type": "code",
      "metadata": {
        "colab": {
          "base_uri": "https://localhost:8080/",
          "height": 323
        },
        "id": "RRhAayFJdHSZ",
        "outputId": "08d94b8a-895e-4199-c72f-d3e077991ab5"
      },
      "source": [
        "#Mettre au pluriel\n",
        "accordsARealiser = [\"des oiseau\",\"des feu\", \"ces bureau\", \"des pneu\", \"des bateau\",\n",
        "           \"des sceau\",\"des eau\", \"des bleu\", \"ces boyau\", \"des essieu\",\n",
        "           \"des noyau\", \"des landau\", \"des dieu\", \"des joyau\", \"des sarrau\", \n",
        "           \"les chapeau\", \"ces milieu\", \"des tableau\"]\n",
        "\n",
        "\n",
        "for accord in accordsARealiser:\n",
        "  evaluation = verificationAccordPluriel(accord)\n",
        "  affichage = accord +\" -> \"+evaluation\n",
        "  display(HTML(affichage))"
      ],
      "execution_count": 90,
      "outputs": [
        {
          "output_type": "display_data",
          "data": {
            "text/html": [
              "des oiseau -> des oiseau<u>x</u>"
            ],
            "text/plain": [
              "<IPython.core.display.HTML object>"
            ]
          },
          "metadata": {}
        },
        {
          "output_type": "display_data",
          "data": {
            "text/html": [
              "des feu -> des feu<u>x</u>"
            ],
            "text/plain": [
              "<IPython.core.display.HTML object>"
            ]
          },
          "metadata": {}
        },
        {
          "output_type": "display_data",
          "data": {
            "text/html": [
              "ces bureau -> ces bureau<u>x</u>"
            ],
            "text/plain": [
              "<IPython.core.display.HTML object>"
            ]
          },
          "metadata": {}
        },
        {
          "output_type": "display_data",
          "data": {
            "text/html": [
              "des pneu -> des pneu<u>s</u>"
            ],
            "text/plain": [
              "<IPython.core.display.HTML object>"
            ]
          },
          "metadata": {}
        },
        {
          "output_type": "display_data",
          "data": {
            "text/html": [
              "des bateau -> des bateau<u>x</u>"
            ],
            "text/plain": [
              "<IPython.core.display.HTML object>"
            ]
          },
          "metadata": {}
        },
        {
          "output_type": "display_data",
          "data": {
            "text/html": [
              "des sceau -> des sceau<u>x</u>"
            ],
            "text/plain": [
              "<IPython.core.display.HTML object>"
            ]
          },
          "metadata": {}
        },
        {
          "output_type": "display_data",
          "data": {
            "text/html": [
              "des eau -> des eau<u>x</u>"
            ],
            "text/plain": [
              "<IPython.core.display.HTML object>"
            ]
          },
          "metadata": {}
        },
        {
          "output_type": "display_data",
          "data": {
            "text/html": [
              "des bleu -> des bleu<u>s</u>"
            ],
            "text/plain": [
              "<IPython.core.display.HTML object>"
            ]
          },
          "metadata": {}
        },
        {
          "output_type": "display_data",
          "data": {
            "text/html": [
              "ces boyau -> ces boyau<u>x</u>"
            ],
            "text/plain": [
              "<IPython.core.display.HTML object>"
            ]
          },
          "metadata": {}
        },
        {
          "output_type": "display_data",
          "data": {
            "text/html": [
              "des essieu -> des essieu<u>x</u>"
            ],
            "text/plain": [
              "<IPython.core.display.HTML object>"
            ]
          },
          "metadata": {}
        },
        {
          "output_type": "display_data",
          "data": {
            "text/html": [
              "des noyau -> des noyau<u>x</u>"
            ],
            "text/plain": [
              "<IPython.core.display.HTML object>"
            ]
          },
          "metadata": {}
        },
        {
          "output_type": "display_data",
          "data": {
            "text/html": [
              "des landau -> des landau<u>s</u>"
            ],
            "text/plain": [
              "<IPython.core.display.HTML object>"
            ]
          },
          "metadata": {}
        },
        {
          "output_type": "display_data",
          "data": {
            "text/html": [
              "des dieu -> des dieu<u>x</u>"
            ],
            "text/plain": [
              "<IPython.core.display.HTML object>"
            ]
          },
          "metadata": {}
        },
        {
          "output_type": "display_data",
          "data": {
            "text/html": [
              "des joyau -> des joyau<u>x</u>"
            ],
            "text/plain": [
              "<IPython.core.display.HTML object>"
            ]
          },
          "metadata": {}
        },
        {
          "output_type": "display_data",
          "data": {
            "text/html": [
              "des sarrau -> des sarrau<u>s</u>"
            ],
            "text/plain": [
              "<IPython.core.display.HTML object>"
            ]
          },
          "metadata": {}
        },
        {
          "output_type": "display_data",
          "data": {
            "text/html": [
              "les chapeau -> les chapeau<u>x</u>"
            ],
            "text/plain": [
              "<IPython.core.display.HTML object>"
            ]
          },
          "metadata": {}
        },
        {
          "output_type": "display_data",
          "data": {
            "text/html": [
              "ces milieu -> ces milieu<u>x</u>"
            ],
            "text/plain": [
              "<IPython.core.display.HTML object>"
            ]
          },
          "metadata": {}
        },
        {
          "output_type": "display_data",
          "data": {
            "text/html": [
              "des tableau -> des tableau<u>x</u>"
            ],
            "text/plain": [
              "<IPython.core.display.HTML object>"
            ]
          },
          "metadata": {}
        }
      ]
    },
    {
      "cell_type": "markdown",
      "metadata": {
        "id": "kXpOcgg3fCpT"
      },
      "source": [
        "#### Verifier l'accord"
      ]
    },
    {
      "cell_type": "code",
      "metadata": {
        "colab": {
          "base_uri": "https://localhost:8080/",
          "height": 221
        },
        "id": "30CtxFaDfFqt",
        "outputId": "bee9bf7c-676d-4c3a-927f-80b0513dc315"
      },
      "source": [
        "accordsAVerifier = [\"Des chorals\", \"Des générals\", \"des régals\", \"des journals\",\n",
        "                    \"des métaux\", \"Les miroir, les métals, les étoffe\", \n",
        "                    \"des cou\", \"les kangourou\", \"les caillous\", \"les détail\", \"les rails\",\"des cheveux\"]\n",
        "\n",
        "for accord in accordsAVerifier:\n",
        "  evaluation = verificationAccordPluriel(accord)\n",
        "  affichage = accord +\" -> \"+evaluation\n",
        "  display(HTML(affichage))"
      ],
      "execution_count": 96,
      "outputs": [
        {
          "output_type": "display_data",
          "data": {
            "text/html": [
              "Des chorals -> Pas d'erreur"
            ],
            "text/plain": [
              "<IPython.core.display.HTML object>"
            ]
          },
          "metadata": {}
        },
        {
          "output_type": "display_data",
          "data": {
            "text/html": [
              "Des générals -> Des génér<u>aux</u>"
            ],
            "text/plain": [
              "<IPython.core.display.HTML object>"
            ]
          },
          "metadata": {}
        },
        {
          "output_type": "display_data",
          "data": {
            "text/html": [
              "des régals -> Pas d'erreur"
            ],
            "text/plain": [
              "<IPython.core.display.HTML object>"
            ]
          },
          "metadata": {}
        },
        {
          "output_type": "display_data",
          "data": {
            "text/html": [
              "des journals -> des journ<u>aux</u>"
            ],
            "text/plain": [
              "<IPython.core.display.HTML object>"
            ]
          },
          "metadata": {}
        },
        {
          "output_type": "display_data",
          "data": {
            "text/html": [
              "des métaux -> Pas d'erreur"
            ],
            "text/plain": [
              "<IPython.core.display.HTML object>"
            ]
          },
          "metadata": {}
        },
        {
          "output_type": "display_data",
          "data": {
            "text/html": [
              "Les miroir, les métals, les étoffe -> Les miroir<u>s</u>, les mét<u>aux</u>, les étoffe<u>s</u>"
            ],
            "text/plain": [
              "<IPython.core.display.HTML object>"
            ]
          },
          "metadata": {}
        },
        {
          "output_type": "display_data",
          "data": {
            "text/html": [
              "des cou -> des cou<u>s</u>"
            ],
            "text/plain": [
              "<IPython.core.display.HTML object>"
            ]
          },
          "metadata": {}
        },
        {
          "output_type": "display_data",
          "data": {
            "text/html": [
              "les kangourou -> les kangourou<u>s</u>"
            ],
            "text/plain": [
              "<IPython.core.display.HTML object>"
            ]
          },
          "metadata": {}
        },
        {
          "output_type": "display_data",
          "data": {
            "text/html": [
              "les caillous -> les caillou<u>x</u>"
            ],
            "text/plain": [
              "<IPython.core.display.HTML object>"
            ]
          },
          "metadata": {}
        },
        {
          "output_type": "display_data",
          "data": {
            "text/html": [
              "les détail -> les détail<u>s</u>"
            ],
            "text/plain": [
              "<IPython.core.display.HTML object>"
            ]
          },
          "metadata": {}
        },
        {
          "output_type": "display_data",
          "data": {
            "text/html": [
              "les rails -> Pas d'erreur"
            ],
            "text/plain": [
              "<IPython.core.display.HTML object>"
            ]
          },
          "metadata": {}
        },
        {
          "output_type": "display_data",
          "data": {
            "text/html": [
              "des cheveux -> Pas d'erreur"
            ],
            "text/plain": [
              "<IPython.core.display.HTML object>"
            ]
          },
          "metadata": {}
        }
      ]
    },
    {
      "cell_type": "markdown",
      "metadata": {
        "id": "rnTSigq4htbO"
      },
      "source": [
        "## CONCLUSION\n",
        "\n",
        "À travers ces exercices nous sommes parvenus à créer un correcteur orthographique simple offrant des résultats satisfaisants. Mais il reste encore beaucoup à faire !\n",
        "\n",
        "Que pensez-vous des résultats obtenus à partir de ces phrases :\n",
        "\n"
      ]
    },
    {
      "cell_type": "code",
      "metadata": {
        "colab": {
          "base_uri": "https://localhost:8080/",
          "height": 51
        },
        "id": "7kYc72lyhEx9",
        "outputId": "efbfd2a2-aa78-4cb8-fc7e-e3980474bf91"
      },
      "source": [
        "evaluation = verificationAccordPluriel(\"Nous mangeons des pommes de terre\")\n",
        "display(HTML(evaluation))\n",
        "\n",
        "evaluation = verificationAccordPluriel(\"Ces cheval ont parcourus des kilometre\")\n",
        "display(HTML(evaluation))"
      ],
      "execution_count": 95,
      "outputs": [
        {
          "output_type": "display_data",
          "data": {
            "text/html": [
              "Nous mangeons des pommes de<u>s</u> terre<u>s</u>"
            ],
            "text/plain": [
              "<IPython.core.display.HTML object>"
            ]
          },
          "metadata": {}
        },
        {
          "output_type": "display_data",
          "data": {
            "text/html": [
              "Ces chev<u>aux</u> ont<u>s</u> parcourus des kilometre<u>s</u>"
            ],
            "text/plain": [
              "<IPython.core.display.HTML object>"
            ]
          },
          "metadata": {}
        }
      ]
    },
    {
      "cell_type": "markdown",
      "metadata": {
        "id": "f2RasrA8kBfx"
      },
      "source": [
        "Afin d'obtenir une bonne correction de ces deux phrases, nous devons faire appel à des notions de grammaire en identifiant, les verbes, les sujets et les règles d'accord. En effet \"de terre\" ne s'accorde pas.\n",
        "Sans oublier les mots invariables et autres exceptions de la langue française.\n",
        "\n",
        "Ces identifications deviennent très compliquées par le simple usage des expressions régulières.\n",
        "\n",
        "Néanmoins, à travers ces exercices, nous avons pu utiliser différentes expressions régulières qui pourront nous être utiles lors des phases de préparation du texte avant son utilisation dans divers algorithmes de machine learning."
      ]
    }
  ]
}